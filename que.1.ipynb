{
 "cells": [
  {
   "cell_type": "code",
   "execution_count": 6,
   "id": "43f128e6",
   "metadata": {},
   "outputs": [
    {
     "name": "stdout",
     "output_type": "stream",
     "text": [
      "[(6, 1), (8, 2), (4, 3), (5, 4), (3, 5)]\n"
     ]
    }
   ],
   "source": [
    "# Write a Python program to get a list, sorted in increasing order by the last element in each tuple from a given list of non-empty tuples\n",
    "\n",
    "def sort_last_element(lst):\n",
    "    return sorted(lst, key=lambda x:x[-1])\n",
    "\n",
    "# Given list of tuples\n",
    "input_list=[(3,5),(8,2),(6,1),(4,3),(5,4)]\n",
    "\n",
    "# Sort the list based on the last element of each tuple\n",
    "sorted_list=sort_last_element(input_list)\n",
    "print(sorted_list)\n",
    "\n",
    "\n"
   ]
  }
 ],
 "metadata": {
  "kernelspec": {
   "display_name": "Python 3 (ipykernel)",
   "language": "python",
   "name": "python3"
  },
  "language_info": {
   "codemirror_mode": {
    "name": "ipython",
    "version": 3
   },
   "file_extension": ".py",
   "mimetype": "text/x-python",
   "name": "python",
   "nbconvert_exporter": "python",
   "pygments_lexer": "ipython3",
   "version": "3.10.9"
  }
 },
 "nbformat": 4,
 "nbformat_minor": 5
}
